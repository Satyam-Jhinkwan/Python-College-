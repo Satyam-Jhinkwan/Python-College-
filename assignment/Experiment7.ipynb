{
 "cells": [
  {
   "cell_type": "markdown",
   "metadata": {},
   "source": [
    "1. Function to find the maximum and minimum numbers from a sequence of numbers"
   ]
  },
  {
   "cell_type": "code",
   "execution_count": 1,
   "metadata": {},
   "outputs": [
    {
     "name": "stdout",
     "output_type": "stream",
     "text": [
      "(90, 6)\n"
     ]
    }
   ],
   "source": [
    "def findMaxMin(sequence):\n",
    "    max_num = sequence[0]\n",
    "    min_num = sequence[0]\n",
    "    for num in sequence[1:]:\n",
    "        if num > max_num:\n",
    "            max_num = num\n",
    "        if num < min_num:\n",
    "            min_num = num\n",
    "    return max_num, min_num\n",
    "\n",
    "print(findMaxMin([10, 6, 8, 90, 12, 56]))"
   ]
  },
  {
   "cell_type": "markdown",
   "metadata": {},
   "source": [
    "2. Function to find the sum of the cube of all positive integers smaller than a given number"
   ]
  },
  {
   "cell_type": "code",
   "execution_count": null,
   "metadata": {},
   "outputs": [
    {
     "name": "stdout",
     "output_type": "stream",
     "text": [
      "100\n"
     ]
    }
   ],
   "source": [
    "def sumOfCubes(n):\n",
    "    return sum(i**3 for i in range(1, n))\n",
    "\n",
    "print(sumOfCubes(5))"
   ]
  },
  {
   "cell_type": "markdown",
   "metadata": {},
   "source": [
    "3. Function to print 1 to n using recursion"
   ]
  },
  {
   "cell_type": "code",
   "execution_count": 4,
   "metadata": {},
   "outputs": [
    {
     "name": "stdout",
     "output_type": "stream",
     "text": [
      "1\n",
      "2\n",
      "3\n",
      "4\n",
      "5\n"
     ]
    }
   ],
   "source": [
    "def printNumbers(n, current=1):\n",
    "    if current > n:\n",
    "        return\n",
    "    print(current)\n",
    "    printNumbers(n, current + 1)\n",
    "\n",
    "printNumbers(5)"
   ]
  },
  {
   "cell_type": "markdown",
   "metadata": {},
   "source": [
    "4. Recursive function to print Fibonacci series up to n terms"
   ]
  },
  {
   "cell_type": "code",
   "execution_count": 8,
   "metadata": {},
   "outputs": [
    {
     "name": "stdout",
     "output_type": "stream",
     "text": [
      "0 1 1 2 3 5 8 "
     ]
    }
   ],
   "source": [
    "def fibonacci(n, a=0, b=1, count=0):\n",
    "    if count == n:\n",
    "        return\n",
    "    print(a, end=\" \")\n",
    "    fibonacci(n, b, a + b, count + 1)\n",
    "\n",
    "fibonacci(7)"
   ]
  },
  {
   "cell_type": "markdown",
   "metadata": {},
   "source": [
    "5. Lambda function to find the volume of a cone"
   ]
  },
  {
   "cell_type": "code",
   "execution_count": null,
   "metadata": {},
   "outputs": [
    {
     "name": "stdout",
     "output_type": "stream",
     "text": [
      "47.12384999999999\n"
     ]
    }
   ],
   "source": [
    "volume = lambda r, h: (1/3) * 3.14159 * r**2 * h\n",
    "\n",
    "print(volume(3, 5))"
   ]
  },
  {
   "cell_type": "markdown",
   "metadata": {},
   "source": [
    "6. Lambda function to find a tuple of max and min from a list"
   ]
  },
  {
   "cell_type": "code",
   "execution_count": 10,
   "metadata": {},
   "outputs": [
    {
     "name": "stdout",
     "output_type": "stream",
     "text": [
      "(90, 6)\n"
     ]
    }
   ],
   "source": [
    "find_max_min = lambda lst: (max(lst), min(lst))\n",
    "\n",
    "print(find_max_min([10, 6, 8, 90, 12, 56]))"
   ]
  },
  {
   "cell_type": "markdown",
   "metadata": {},
   "source": [
    "7a. Function to demonstrate keyword arguments"
   ]
  },
  {
   "cell_type": "code",
   "execution_count": 11,
   "metadata": {},
   "outputs": [
    {
     "name": "stdout",
     "output_type": "stream",
     "text": [
      "Name: Alice, Age: 25\n"
     ]
    }
   ],
   "source": [
    "def keyword(name, age):\n",
    "    print(f\"Name: {name}, Age: {age}\")\n",
    "\n",
    "keyword(name=\"Alice\", age=25)"
   ]
  },
  {
   "cell_type": "markdown",
   "metadata": {},
   "source": [
    "7b. Function to demonstrate default arguments"
   ]
  },
  {
   "cell_type": "code",
   "execution_count": 12,
   "metadata": {},
   "outputs": [
    {
     "name": "stdout",
     "output_type": "stream",
     "text": [
      "Name: Bob, Age: 18\n"
     ]
    }
   ],
   "source": [
    "def defaultArgument(name, age=18):\n",
    "    print(f\"Name: {name}, Age: {age}\")\n",
    "\n",
    "defaultArgument(name=\"Bob\")"
   ]
  },
  {
   "cell_type": "markdown",
   "metadata": {},
   "source": [
    "7c. Function to demonstrate variable length arguments"
   ]
  },
  {
   "cell_type": "code",
   "execution_count": null,
   "metadata": {},
   "outputs": [
    {
     "name": "stdout",
     "output_type": "stream",
     "text": [
      "Arguments: (1, 2, 3, 4, 5)\n"
     ]
    }
   ],
   "source": [
    "def varLengthArgument(*args):\n",
    "    print(\"Arguments:\", args)\n",
    "\n",
    "varLengthArgument(1, 2, 3, 4, 5)"
   ]
  }
 ],
 "metadata": {
  "kernelspec": {
   "display_name": "Python 3",
   "language": "python",
   "name": "python3"
  },
  "language_info": {
   "codemirror_mode": {
    "name": "ipython",
    "version": 3
   },
   "file_extension": ".py",
   "mimetype": "text/x-python",
   "name": "python",
   "nbconvert_exporter": "python",
   "pygments_lexer": "ipython3",
   "version": "3.13.1"
  }
 },
 "nbformat": 4,
 "nbformat_minor": 2
}
