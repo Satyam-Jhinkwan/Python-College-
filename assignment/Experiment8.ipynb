{
 "cells": [
  {
   "cell_type": "code",
   "execution_count": 1,
   "metadata": {},
   "outputs": [],
   "source": [
    "import pandas as pd"
   ]
  },
  {
   "cell_type": "markdown",
   "metadata": {},
   "source": [
    "### 1"
   ]
  },
  {
   "cell_type": "code",
   "execution_count": null,
   "metadata": {},
   "outputs": [
    {
     "name": "stdout",
     "output_type": "stream",
     "text": [
      "Number of names: 6\n",
      "Names starting with a vowel: 2\n",
      "Longest name: Shubhang\n"
     ]
    }
   ],
   "source": [
    "def pdNames():\n",
    "    data = {\"Names\": [\"Satyam\", \"Anurag\", \"Yajas\", \"Shubhang\", \"Arnav\", \"Suyash\"]}\n",
    "    df = pd.DataFrame(data)\n",
    "    df.to_csv(\"names.csv\", index=False)\n",
    "\n",
    "    df = pd.read_csv(\"names.csv\")\n",
    "\n",
    "    # a. Count number of names\n",
    "    print(\"Number of names:\", len(df))\n",
    "\n",
    "    # b. Count names starting with a vowel\n",
    "    vowelCount = df[\"Names\"].str.startswith(tuple(\"aeiouAEIOU\")).sum()\n",
    "    \n",
    "    print(\"Names starting with a vowel:\", vowelCount)\n",
    "\n",
    "    # c. Find the longest name\n",
    "    longestName = df[\"Names\"].str.len().idxmax()\n",
    "    print(\"Longest name:\", df.loc[longestName, \"Names\"])\n",
    "    \n",
    "pdNames()"
   ]
  },
  {
   "cell_type": "markdown",
   "metadata": {},
   "source": [
    "### 2"
   ]
  },
  {
   "cell_type": "code",
   "execution_count": null,
   "metadata": {},
   "outputs": [
    {
     "name": "stdout",
     "output_type": "stream",
     "text": [
      "Max number: 300\n",
      "Average: 126.33333333333333\n",
      "Numbers greater than 100: 3\n"
     ]
    }
   ],
   "source": [
    "def integers():\n",
    "    data = {\"Numbers\": [45, 120, 78, 200, 15, 300]}\n",
    "    df = pd.DataFrame(data)\n",
    "    df.to_csv(\"integers.csv\", index=False)\n",
    "\n",
    "    # Read the file\n",
    "    df = pd.read_csv(\"integers.csv\")\n",
    "\n",
    "    # a. Find the max number\n",
    "    print(\"Max number:\", df[\"Numbers\"].max())\n",
    "\n",
    "    # b. Find average of all numbers\n",
    "    print(\"Average:\", df[\"Numbers\"].mean())\n",
    "\n",
    "    # c. Count numbers greater than 100\n",
    "    count100 = (df[\"Numbers\"] > 100).sum()\n",
    "    print(\"Numbers greater than 100:\", count100)\n",
    "\n",
    "integers()"
   ]
  },
  {
   "cell_type": "markdown",
   "metadata": {},
   "source": [
    "### 3"
   ]
  },
  {
   "cell_type": "code",
   "execution_count": 20,
   "metadata": {},
   "outputs": [
    {
     "name": "stdout",
     "output_type": "stream",
     "text": [
      "City details:\n",
      "       City  Population     Area\n",
      "0  Dehradun        5.78   308.20\n",
      "1     Delhi      190.00  1484.00\n",
      "2    Mumbai      204.00   603.00\n",
      "3      Pune       31.20   331.26\n",
      "4   Chennai       70.90   426.00\n",
      "Cities with population > 10 Lakhs:\n",
      "['Delhi', 'Mumbai', 'Pune', 'Chennai']\n",
      "Total area of all cities: 3152.46\n"
     ]
    }
   ],
   "source": [
    "def cities():\n",
    "    data = {\n",
    "        \"City\": [\"Dehradun\", \"Delhi\", \"Mumbai\", \"Pune\", \"Chennai\"],\n",
    "        \"Population\": [5.78, 190, 204, 31.2, 70.9],\n",
    "        \"Area\": [308.20, 1484, 603, 331.26, 426],\n",
    "    }\n",
    "    df = pd.DataFrame(data)\n",
    "    df.to_csv(\"city.csv\", index=False)\n",
    "\n",
    "    # Read the file\n",
    "    df = pd.read_csv(\"city.csv\")\n",
    "\n",
    "    # a. Display details of all cities\n",
    "    print(\"City details:\")\n",
    "    print(df)\n",
    "\n",
    "    # b. Display city names with population more than 10 Lakhs\n",
    "    print(\"Cities with population > 10 Lakhs:\")\n",
    "    print(df.loc[df[\"Population\"] > 10, \"City\"].tolist())\n",
    "\n",
    "    # c. Display sum of areas of all cities\n",
    "    total_area = df[\"Area\"].sum()\n",
    "    print(\"Total area of all cities:\", total_area)\n",
    "\n",
    "cities()"
   ]
  },
  {
   "cell_type": "markdown",
   "metadata": {},
   "source": [
    "### 4"
   ]
  },
  {
   "cell_type": "code",
   "execution_count": 24,
   "metadata": {},
   "outputs": [
    {
     "name": "stdout",
     "output_type": "stream",
     "text": [
      "0\n",
      "1\n",
      "Error Code: invalid literal for int() with base 10: '$'\n",
      "Error Code: integer division or modulo by zero\n",
      "5\n"
     ]
    }
   ],
   "source": [
    "def intDivision():\n",
    "    n = int(input(\"Enter number of test cases: \"))\n",
    "    for _ in range(n):\n",
    "        try:\n",
    "            a, b = map(int, input().split())\n",
    "            print(a // b)\n",
    "        except ZeroDivisionError as e:\n",
    "            print(\"Error Code:\", e)\n",
    "        except ValueError as e:\n",
    "            print(\"Error Code:\", e)\n",
    "\n",
    "intDivision()"
   ]
  },
  {
   "cell_type": "markdown",
   "metadata": {},
   "source": [
    "### 5"
   ]
  },
  {
   "cell_type": "code",
   "execution_count": null,
   "metadata": {},
   "outputs": [
    {
     "name": "stdout",
     "output_type": "stream",
     "text": [
      "FileNotFoundError: [Errno 2] No such file or directory: 'non_existent_file.csv'\n"
     ]
    }
   ],
   "source": [
    "def exception():\n",
    "    try:\n",
    "        \n",
    "        df = pd.read_csv(\"non_existent_file.csv\")\n",
    "    except FileNotFoundError as e:\n",
    "        print(\"FileNotFoundError:\", e)\n",
    "    except pd.errors.EmptyDataError as e:\n",
    "        print(\"EmptyDataError:\", e)\n",
    "    except Exception as e:\n",
    "        print(\"An unexpected error occurred:\", e)\n",
    "    \n",
    "exception()"
   ]
  }
 ],
 "metadata": {
  "kernelspec": {
   "display_name": "Python 3",
   "language": "python",
   "name": "python3"
  },
  "language_info": {
   "codemirror_mode": {
    "name": "ipython",
    "version": 3
   },
   "file_extension": ".py",
   "mimetype": "text/x-python",
   "name": "python",
   "nbconvert_exporter": "python",
   "pygments_lexer": "ipython3",
   "version": "3.13.1"
  }
 },
 "nbformat": 4,
 "nbformat_minor": 2
}
