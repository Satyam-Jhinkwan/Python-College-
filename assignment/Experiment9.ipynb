{
 "cells": [
  {
   "cell_type": "markdown",
   "id": "61434327",
   "metadata": {},
   "source": [
    "### 1"
   ]
  },
  {
   "cell_type": "code",
   "execution_count": 8,
   "id": "99ab78a3",
   "metadata": {},
   "outputs": [
    {
     "name": "stdout",
     "output_type": "stream",
     "text": [
      "\n",
      "Enter details for Student 1\n",
      "\n",
      "Enter details for Student 2\n",
      "\n",
      "Enter details for Student 3\n",
      "Name: satyam, SAP ID: 12742, Marks: [67.0, 78.0, 75.0]\n",
      "Name: yashu, SAP ID: 221442, Marks: [78.0, 92.0, 72.0]\n",
      "Name: illa, SAP ID: 2313, Marks: [73.0, 29.0, 83.0]\n"
     ]
    }
   ],
   "source": [
    "class Student:\n",
    "    def __init__(self, name, sap_id, marks):\n",
    "        self.name = name\n",
    "        self.sap_id = sap_id\n",
    "        self.marks = marks  \n",
    "\n",
    "    def display(self):\n",
    "        print(f\"Name: {self.name}, SAP ID: {self.sap_id}, Marks: {self.marks}\")\n",
    "\n",
    "students = []\n",
    "\n",
    "for i in range(3):\n",
    "    print(f\"\\nEnter details for Student {i+1}\")\n",
    "    name = input(\"Enter Name: \")\n",
    "    sap_id = input(\"Enter SAP ID: \")\n",
    "    phy = float(input(\"Enter Physics Marks: \"))\n",
    "    chem = float(input(\"Enter Chemistry Marks: \"))\n",
    "    maths = float(input(\"Enter Maths Marks: \"))\n",
    "    students.append(Student(name, sap_id, [phy, chem, maths]))\n",
    "\n",
    "for student in students:\n",
    "    student.display()\n"
   ]
  },
  {
   "cell_type": "markdown",
   "id": "69f37c39",
   "metadata": {},
   "source": [
    "### 2"
   ]
  },
  {
   "cell_type": "code",
   "execution_count": 11,
   "id": "628f16c7",
   "metadata": {},
   "outputs": [
    {
     "name": "stdout",
     "output_type": "stream",
     "text": [
      "\n",
      "Enter details for Student 1\n",
      "\n",
      "Enter details for Student 2\n",
      "Name: satyam, SAP ID: 12742, Marks: [834.0, 82.0, 87.0]\n",
      "Percentage: 334.33%\n",
      "satyam is Pass\n",
      "\n",
      "Name: yashu, SAP ID: 27332, Marks: [12.0, 42.0, 53.0]\n",
      "Percentage: 35.67%\n",
      "yashu is Pass\n",
      "\n",
      "Class Average: 185.00%\n"
     ]
    }
   ],
   "source": [
    "class Student:\n",
    "    def __init__(self, name, sap_id, marks):\n",
    "        self.name = name\n",
    "        self.sap_id = sap_id\n",
    "        self.marks = marks\n",
    "\n",
    "    def display(self):\n",
    "        print(f\"Name: {self.name}, SAP ID: {self.sap_id}, Marks: {self.marks}\")\n",
    "\n",
    "    def Percentage(self):\n",
    "        total = sum(self.marks)\n",
    "        return (total / 300) * 100\n",
    "\n",
    "    def Result(self):\n",
    "        if (mark >= 40 for mark in self.marks):\n",
    "            print(f\"{self.name} is Pass\")\n",
    "        else:\n",
    "            print(f\"{self.name} is Fail\")\n",
    "\n",
    "def Average(students):\n",
    "    total = 0\n",
    "    for student in students:\n",
    "        total += student.Percentage()\n",
    "    return total / len(students)\n",
    "\n",
    "n = int(input(\"Enter number of students: \"))\n",
    "students = []\n",
    "\n",
    "for i in range(n):\n",
    "    print(f\"\\nEnter details for Student {i+1}\")\n",
    "    name = input(\"Enter Name: \")\n",
    "    sap_id = input(\"Enter SAP ID: \")\n",
    "    phy = float(input(\"Enter Physics Marks: \"))\n",
    "    chem = float(input(\"Enter Chemistry Marks: \"))\n",
    "    maths = float(input(\"Enter Maths Marks: \"))\n",
    "    students.append(Student(name, sap_id, [phy, chem, maths]))\n",
    "\n",
    "for student in students:\n",
    "    student.display()\n",
    "    print(f\"Percentage: {student.Percentage():.2f}%\")\n",
    "    student.Result()\n",
    "    print()\n",
    "\n",
    "print(f\"Class Average: {Average(students):.2f}%\")"
   ]
  },
  {
   "cell_type": "markdown",
   "id": "aa454da1",
   "metadata": {},
   "source": [
    "### 3"
   ]
  },
  {
   "cell_type": "code",
   "execution_count": 2,
   "id": "38bd5864",
   "metadata": {},
   "outputs": [
    {
     "name": "stdout",
     "output_type": "stream",
     "text": [
      "This is Grandparent\n",
      "This is Parent\n",
      "This is Child\n"
     ]
    }
   ],
   "source": [
    "class Grandparent:\n",
    "    def grandpa(self):\n",
    "        print(\"This is Grandparent\")\n",
    "\n",
    "class Parent(Grandparent):\n",
    "    def parent(self):\n",
    "        print(\"This is Parent\")\n",
    "\n",
    "class Child(Parent):\n",
    "    def child(self):\n",
    "        print(\"This is Child\")\n",
    "\n",
    "c = Child()\n",
    "c.grandpa()\n",
    "c.parent()\n",
    "c.child()"
   ]
  },
  {
   "cell_type": "markdown",
   "id": "d39a49ff",
   "metadata": {},
   "source": [
    "### 4"
   ]
  },
  {
   "cell_type": "code",
   "execution_count": 4,
   "id": "4fbf8935",
   "metadata": {},
   "outputs": [
    {
     "name": "stdout",
     "output_type": "stream",
     "text": [
      "Dog barks\n"
     ]
    }
   ],
   "source": [
    "class Animal:\n",
    "    def sound(self):\n",
    "        print(\"Animal makes a sound\")\n",
    "\n",
    "class Dog(Animal):\n",
    "    def sound(self):\n",
    "        print(\"Dog barks\")\n",
    "\n",
    "animal = Dog()\n",
    "animal.sound() "
   ]
  },
  {
   "cell_type": "markdown",
   "id": "466e7eed",
   "metadata": {},
   "source": [
    "### 5"
   ]
  },
  {
   "cell_type": "code",
   "execution_count": 7,
   "id": "5ba2ebd3",
   "metadata": {},
   "outputs": [
    {
     "name": "stdout",
     "output_type": "stream",
     "text": [
      "Point(x=22, y=35)\n"
     ]
    }
   ],
   "source": [
    "class Point:\n",
    "    def __init__(self, x, y):\n",
    "        self.x = x\n",
    "        self.y = y\n",
    "\n",
    "    def __add__(self, other):\n",
    "        return Point(self.x + other.x, self.y + other.y)\n",
    "\n",
    "    def __str__(self):\n",
    "        return f\"Point(x={self.x}, y={self.y})\"\n",
    "\n",
    "p1 = Point(10, 20)\n",
    "p2 = Point(12, 15)\n",
    "p3 = p1 + p2\n",
    "print(p3)\n"
   ]
  }
 ],
 "metadata": {
  "kernelspec": {
   "display_name": "Python 3",
   "language": "python",
   "name": "python3"
  },
  "language_info": {
   "codemirror_mode": {
    "name": "ipython",
    "version": 3
   },
   "file_extension": ".py",
   "mimetype": "text/x-python",
   "name": "python",
   "nbconvert_exporter": "python",
   "pygments_lexer": "ipython3",
   "version": "3.13.1"
  }
 },
 "nbformat": 4,
 "nbformat_minor": 5
}
