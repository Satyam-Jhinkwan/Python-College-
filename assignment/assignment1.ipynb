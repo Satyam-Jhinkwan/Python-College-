{
 "cells": [
  {
   "cell_type": "markdown",
   "metadata": {},
   "source": [
    "1. Add a number to the end of the list and remove the first element"
   ]
  },
  {
   "cell_type": "code",
   "execution_count": 1,
   "metadata": {},
   "outputs": [
    {
     "name": "stdout",
     "output_type": "stream",
     "text": [
      "[2, 3, 4, 5]\n"
     ]
    }
   ],
   "source": [
    "def update_list(lst, num):\n",
    "    lst.append(num)\n",
    "    lst.pop(0)\n",
    "    return lst\n",
    "my_list = [1, 2, 3, 4]\n",
    "number = 5\n",
    "updated_list = update_list(my_list, number)\n",
    "print(updated_list)"
   ]
  },
  {
   "cell_type": "markdown",
   "metadata": {},
   "source": [
    "2. Sum of people's budgets"
   ]
  },
  {
   "cell_type": "code",
   "execution_count": 2,
   "metadata": {},
   "outputs": [
    {
     "name": "stdout",
     "output_type": "stream",
     "text": [
      "65700\n"
     ]
    }
   ],
   "source": [
    "def get_budgets(people):\n",
    "    return sum(person['budget'] for person in people)\n",
    "\n",
    "people = [\n",
    "    {'name': 'John', 'age': 21, 'budget': 23000},\n",
    "    {'name': 'Steve', 'age': 32, 'budget': 40000},\n",
    "    {'name': 'Martin', 'age': 16, 'budget': 2700}\n",
    "]\n",
    "total_budget = get_budgets(people)\n",
    "print(total_budget) "
   ]
  },
  {
   "cell_type": "markdown",
   "metadata": {},
   "source": [
    "3. Sort letters in alphabetical order"
   ]
  },
  {
   "cell_type": "code",
   "execution_count": 3,
   "metadata": {},
   "outputs": [
    {
     "name": "stdout",
     "output_type": "stream",
     "text": [
      "ehllo\n"
     ]
    }
   ],
   "source": [
    "def alphabet_soup(s):\n",
    "    return ''.join(sorted(s))\n",
    "\n",
    "word = \"hello\"\n",
    "sorted_word = alphabet_soup(word)\n",
    "print(sorted_word)"
   ]
  },
  {
   "cell_type": "markdown",
   "metadata": {},
   "source": [
    "4. Check if the second list is the first list shifted right by 1"
   ]
  },
  {
   "cell_type": "code",
   "execution_count": 4,
   "metadata": {},
   "outputs": [
    {
     "name": "stdout",
     "output_type": "stream",
     "text": [
      "True\n"
     ]
    }
   ],
   "source": [
    "def is_shifted(lst1, lst2):\n",
    "    return lst1[:-1] == lst2[1:]\n",
    "\n",
    "list1 = [1, 2, 3, 4]\n",
    "list2 = [0, 1, 2, 3]\n",
    "print(is_shifted(list1, list2))"
   ]
  },
  {
   "cell_type": "markdown",
   "metadata": {},
   "source": [
    "5. Secret society name"
   ]
  },
  {
   "cell_type": "code",
   "execution_count": 5,
   "metadata": {},
   "outputs": [
    {
     "name": "stdout",
     "output_type": "stream",
     "text": [
      "AMS\n"
     ]
    }
   ],
   "source": [
    "def society_name(names):\n",
    "    return ''.join(sorted([name[0] for name in names]))\n",
    "\n",
    "names = [\"Adam\", \"Sarah\", \"Malcolm\"]\n",
    "society = society_name(names)\n",
    "print(society)"
   ]
  },
  {
   "cell_type": "markdown",
   "metadata": {},
   "source": [
    "6. Check if a word is an isogram"
   ]
  },
  {
   "cell_type": "code",
   "execution_count": 6,
   "metadata": {},
   "outputs": [
    {
     "name": "stdout",
     "output_type": "stream",
     "text": [
      "True\n"
     ]
    }
   ],
   "source": [
    "def is_isogram(word):\n",
    "    return len(word) == len(set(word.lower()))\n",
    "\n",
    "word = \"Dermatoglyphics\"\n",
    "print(is_isogram(word))"
   ]
  },
  {
   "cell_type": "markdown",
   "metadata": {},
   "source": [
    "7. Check if characters in a string are in order"
   ]
  },
  {
   "cell_type": "code",
   "execution_count": 7,
   "metadata": {},
   "outputs": [
    {
     "name": "stdout",
     "output_type": "stream",
     "text": [
      "True\n"
     ]
    }
   ],
   "source": [
    "def is_in_order(s):\n",
    "    return s == ''.join(sorted(s))\n",
    "\n",
    "string = \"abcde\"\n",
    "print(is_in_order(string))"
   ]
  },
  {
   "cell_type": "markdown",
   "metadata": {},
   "source": [
    "8. Find the unique number in a list"
   ]
  },
  {
   "cell_type": "code",
   "execution_count": 8,
   "metadata": {},
   "outputs": [
    {
     "name": "stdout",
     "output_type": "stream",
     "text": [
      "7\n"
     ]
    }
   ],
   "source": [
    "def unique(lst):\n",
    "    for num in lst:\n",
    "        if lst.count(num) == 1:\n",
    "            return num\n",
    "        \n",
    "numbers = [3, 3, 3, 7, 3, 3]\n",
    "print(unique(numbers))"
   ]
  },
  {
   "cell_type": "markdown",
   "metadata": {},
   "source": [
    "9. Count equal integers"
   ]
  },
  {
   "cell_type": "code",
   "execution_count": 9,
   "metadata": {},
   "outputs": [
    {
     "name": "stdout",
     "output_type": "stream",
     "text": [
      "2\n",
      "3\n"
     ]
    }
   ],
   "source": [
    "def equal(a, b, c):\n",
    "    count = 0\n",
    "    if a == b == c:\n",
    "        return 3\n",
    "    elif a == b or a == c or b == c:\n",
    "        return 2\n",
    "    else:\n",
    "        return 0\n",
    "\n",
    "print(equal(3, 4, 3))  \n",
    "print(equal(1, 1, 1)) "
   ]
  },
  {
   "cell_type": "markdown",
   "metadata": {},
   "source": [
    "10. Replace vowels in a string"
   ]
  },
  {
   "cell_type": "code",
   "execution_count": 10,
   "metadata": {},
   "outputs": [
    {
     "name": "stdout",
     "output_type": "stream",
     "text": [
      "upplus und bununus\n"
     ]
    }
   ],
   "source": [
    "def vow_replace(s, vowel):\n",
    "    vowels = \"aeiouAEIOU\"\n",
    "    return ''.join([vowel if char in vowels else char for char in s])\n",
    "\n",
    "string = \"apples and bananas\"\n",
    "new_string = vow_replace(string, \"u\")\n",
    "print(new_string) "
   ]
  },
  {
   "cell_type": "markdown",
   "metadata": {},
   "source": [
    "11. Check if a number is a Happy Number"
   ]
  },
  {
   "cell_type": "code",
   "execution_count": 11,
   "metadata": {},
   "outputs": [
    {
     "name": "stdout",
     "output_type": "stream",
     "text": [
      "True\n"
     ]
    }
   ],
   "source": [
    "def is_happy_number(n):\n",
    "    def get_square_sum(num):\n",
    "        return sum(int(digit) ** 2 for digit in str(num))\n",
    "    \n",
    "    seen = set()\n",
    "    while n != 1 and n not in seen:\n",
    "        seen.add(n)\n",
    "        n = get_square_sum(n)\n",
    "    return n == 1\n",
    "\n",
    "number = 19\n",
    "print(is_happy_number(number))"
   ]
  },
  {
   "cell_type": "markdown",
   "metadata": {},
   "source": [
    "12. Find uncommon words from two strings"
   ]
  },
  {
   "cell_type": "code",
   "execution_count": 12,
   "metadata": {},
   "outputs": [
    {
     "name": "stdout",
     "output_type": "stream",
     "text": [
      "{'John', 'Smith'}\n"
     ]
    }
   ],
   "source": [
    "def uncommon_words(full_name, surname):\n",
    "    full_name_words = set(full_name.split())\n",
    "    surname_words = set(surname.split())\n",
    "    return full_name_words.symmetric_difference(surname_words)\n",
    "\n",
    "full_name = \"John Doe Smith\"\n",
    "surname = \"Doe\"\n",
    "print(uncommon_words(full_name, surname)) "
   ]
  },
  {
   "cell_type": "markdown",
   "metadata": {},
   "source": [
    "13. Extract unique dictionary values"
   ]
  },
  {
   "cell_type": "code",
   "execution_count": 13,
   "metadata": {},
   "outputs": [
    {
     "name": "stdout",
     "output_type": "stream",
     "text": [
      "Your name's dictionary has the unique values: {1, 2, 3}\n"
     ]
    }
   ],
   "source": [
    "def unique_dict_values(d):\n",
    "    unique_values = set(d.values())\n",
    "    return f\"Your name's dictionary has the unique values: {unique_values}\"\n",
    "\n",
    "my_dict = {'a': 1, 'b': 2, 'c': 1, 'd': 3}\n",
    "print(unique_dict_values(my_dict))"
   ]
  },
  {
   "cell_type": "markdown",
   "metadata": {},
   "source": [
    "14. Insert at the beginning in OrderedDict"
   ]
  },
  {
   "cell_type": "code",
   "execution_count": 14,
   "metadata": {},
   "outputs": [
    {
     "name": "stdout",
     "output_type": "stream",
     "text": [
      "OrderedDict({'c': 3, 'a': 1, 'b': 2})\n"
     ]
    }
   ],
   "source": [
    "from collections import OrderedDict\n",
    "\n",
    "def insert_at_beginning(od, key, value):\n",
    "    od[key] = value\n",
    "    od.move_to_end(key, last=False)\n",
    "    return od\n",
    "\n",
    "od = OrderedDict([('a', 1), ('b', 2)])\n",
    "od = insert_at_beginning(od, 'c', 3)\n",
    "print(od)"
   ]
  },
  {
   "cell_type": "markdown",
   "metadata": {},
   "source": [
    "15. Sort Python dictionaries by key or value"
   ]
  },
  {
   "cell_type": "code",
   "execution_count": 15,
   "metadata": {},
   "outputs": [
    {
     "name": "stdout",
     "output_type": "stream",
     "text": [
      "{'banana': 1, 'cherry': 2, 'apple': 3, 'date': 4}\n"
     ]
    }
   ],
   "source": [
    "def sort_dict(d, by='key'):\n",
    "    if by == 'key':\n",
    "        return dict(sorted(d.items()))\n",
    "    elif by == 'value':\n",
    "        return dict(sorted(d.items(), key=lambda item: item[1]))\n",
    "    else:\n",
    "        return d\n",
    "    \n",
    "my_dict = {'apple': 3, 'banana': 1, 'cherry': 2, 'date': 4}\n",
    "print(sort_dict(my_dict, by='value'))"
   ]
  }
 ],
 "metadata": {
  "kernelspec": {
   "display_name": "Python 3",
   "language": "python",
   "name": "python3"
  },
  "language_info": {
   "codemirror_mode": {
    "name": "ipython",
    "version": 3
   },
   "file_extension": ".py",
   "mimetype": "text/x-python",
   "name": "python",
   "nbconvert_exporter": "python",
   "pygments_lexer": "ipython3",
   "version": "3.13.1"
  }
 },
 "nbformat": 4,
 "nbformat_minor": 2
}
