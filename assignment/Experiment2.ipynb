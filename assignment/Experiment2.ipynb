{
 "cells": [
  {
   "cell_type": "markdown",
   "metadata": {},
   "source": [
    "1. Declare these variables (x, y and z) as integers. Assign a value of 9 to x, Assign a value of 7 to y, perform addition, multiplication, division and subtraction on these two variables and Print out the result."
   ]
  },
  {
   "cell_type": "code",
   "execution_count": null,
   "metadata": {},
   "outputs": [],
   "source": [
    "x = 9\n",
    "y = 7\n",
    "\n",
    "addition = x + y\n",
    "multiplication = x * y\n",
    "division = x / y\n",
    "subtraction = x - y\n",
    "\n",
    "print(\"Addition:\", addition)\n",
    "print(\"Multiplication:\", multiplication)\n",
    "print(\"Division:\", division)\n",
    "print(\"Subtraction:\", subtraction)"
   ]
  },
  {
   "cell_type": "markdown",
   "metadata": {},
   "source": [
    "2. Write a Program where the radius is taken as input to compute the area of a circle."
   ]
  },
  {
   "cell_type": "code",
   "execution_count": null,
   "metadata": {},
   "outputs": [],
   "source": [
    "import math\n",
    "\n",
    "radius = float(input(\"Enter the radius of the circle: \"))\n",
    "area = math.pi * radius ** 2\n",
    "print(\"Area of the circle:\", area)"
   ]
  },
  {
   "cell_type": "markdown",
   "metadata": {},
   "source": [
    "3. Write a Python program to solve (x+y)*(x+y)"
   ]
  },
  {
   "cell_type": "code",
   "execution_count": null,
   "metadata": {},
   "outputs": [],
   "source": [
    "x = 4\n",
    "y = 3\n",
    "result = (x + y) * (x + y)\n",
    "print(\"Result of (x+y)*(x+y):\", result)"
   ]
  },
  {
   "cell_type": "markdown",
   "metadata": {},
   "source": [
    "4. Write a program to compute the length of the hypotenuse (c) of a right triangle using Pythagoras theorem."
   ]
  },
  {
   "cell_type": "code",
   "execution_count": null,
   "metadata": {},
   "outputs": [],
   "source": [
    "import math\n",
    "\n",
    "a = float(input(\"Enter the length of side a: \"))\n",
    "b = float(input(\"Enter the length of side b: \"))\n",
    "c = math.sqrt(a**2 + b**2)\n",
    "print(\"Length of the hypotenuse:\", c)"
   ]
  },
  {
   "cell_type": "markdown",
   "metadata": {},
   "source": [
    "5. Write a program to find simple interest."
   ]
  },
  {
   "cell_type": "code",
   "execution_count": null,
   "metadata": {},
   "outputs": [],
   "source": [
    "principal = float(input(\"Enter the principal amount: \"))\n",
    "rate = float(input(\"Enter the rate of interest: \"))\n",
    "time = float(input(\"Enter the time in years: \"))\n",
    "simple_interest = (principal * rate * time) / 100\n",
    "print(\"Simple Interest:\", simple_interest)"
   ]
  },
  {
   "cell_type": "markdown",
   "metadata": {},
   "source": [
    "6. Write a program to find area of triangle when length of sides are given."
   ]
  },
  {
   "cell_type": "code",
   "execution_count": null,
   "metadata": {},
   "outputs": [],
   "source": [
    "import math\n",
    "\n",
    "a = float(input(\"Enter the length of side a: \"))\n",
    "b = float(input(\"Enter the length of side b: \"))\n",
    "c = float(input(\"Enter the length of side c: \"))\n",
    "s = (a + b + c) / 2\n",
    "area = math.sqrt(s * (s - a) * (s - b) * (s - c))\n",
    "print(\"Area of the triangle:\", area)"
   ]
  },
  {
   "cell_type": "markdown",
   "metadata": {},
   "source": [
    "7. Write a program to convert given seconds into hours, minutes and remaining seconds."
   ]
  },
  {
   "cell_type": "code",
   "execution_count": null,
   "metadata": {},
   "outputs": [],
   "source": [
    "total_seconds = int(input(\"Enter the total seconds: \"))\n",
    "hours = total_seconds // 3600\n",
    "minutes = (total_seconds % 3600) // 60\n",
    "seconds = total_seconds % 60\n",
    "print(f\"{hours} hours, {minutes} minutes, {seconds} seconds\")"
   ]
  },
  {
   "cell_type": "markdown",
   "metadata": {},
   "source": [
    "8. Write a program to swap two numbers without taking additional variable."
   ]
  },
  {
   "cell_type": "code",
   "execution_count": null,
   "metadata": {},
   "outputs": [],
   "source": [
    "a = int(input(\"Enter the first number: \"))\n",
    "b = int(input(\"Enter the second number: \"))\n",
    "a, b = b, a\n",
    "print(\"After swapping: a =\", a, \"b =\", b)"
   ]
  },
  {
   "cell_type": "markdown",
   "metadata": {},
   "source": [
    "9. Write a program to find sum of first n natural numbers."
   ]
  },
  {
   "cell_type": "code",
   "execution_count": null,
   "metadata": {},
   "outputs": [],
   "source": [
    "n = int(input(\"Enter the value of n: \"))\n",
    "sum_n = n * (n + 1) // 2\n",
    "print(\"Sum of first\", n, \"natural numbers:\", sum_n)"
   ]
  },
  {
   "cell_type": "markdown",
   "metadata": {},
   "source": [
    "10. Write a program to print truth table for bitwise operators( & , | and ^ operators)"
   ]
  },
  {
   "cell_type": "code",
   "execution_count": null,
   "metadata": {},
   "outputs": [],
   "source": [
    "print(\"A B A&B A|B A^B\")\n",
    "for A in [0, 1]:\n",
    "    for B in [0, 1]:\n",
    "        print(f\"{A} {B} {A&B} {A|B} {A^B}\")"
   ]
  },
  {
   "cell_type": "markdown",
   "metadata": {},
   "source": [
    "11. Write a program to find left shift and right shift values of a given number."
   ]
  },
  {
   "cell_type": "code",
   "execution_count": null,
   "metadata": {},
   "outputs": [],
   "source": [
    "num = int(input(\"Enter a number: \"))\n",
    "left_shift = num << 1\n",
    "right_shift = num >> 1\n",
    "print(\"Left Shift:\", left_shift)\n",
    "print(\"Right Shift:\", right_shift)"
   ]
  },
  {
   "cell_type": "markdown",
   "metadata": {},
   "source": [
    "12. Using membership operator find whether a given number is in sequence (10,20,56,78,89)"
   ]
  },
  {
   "cell_type": "code",
   "execution_count": null,
   "metadata": {},
   "outputs": [],
   "source": [
    "sequence = (10, 20, 56, 78, 89)\n",
    "number = int(input(\"Enter a number to check: \"))\n",
    "if number in sequence:\n",
    "    print(f\"{number} is in the sequence\")\n",
    "else:\n",
    "    print(f\"{number} is not in the sequence\")\n"
   ]
  },
  {
   "cell_type": "markdown",
   "metadata": {},
   "source": [
    "13. Using membership operator find whether a given character is in a string."
   ]
  },
  {
   "cell_type": "code",
   "execution_count": null,
   "metadata": {},
   "outputs": [],
   "source": [
    "string = input(\"Enter a string: \")\n",
    "char = input(\"Enter a character to check: \")\n",
    "if char in string:\n",
    "    print(f\"'{char}' is in the string\")\n",
    "else:\n",
    "    print(f\"'{char}' is not in the string\")"
   ]
  }
 ],
 "metadata": {
  "kernelspec": {
   "display_name": "Python 3",
   "language": "python",
   "name": "python3"
  },
  "language_info": {
   "codemirror_mode": {
    "name": "ipython",
    "version": 3
   },
   "file_extension": ".py",
   "mimetype": "text/x-python",
   "name": "python",
   "nbconvert_exporter": "python",
   "pygments_lexer": "ipython3",
   "version": "3.13.1"
  }
 },
 "nbformat": 4,
 "nbformat_minor": 2
}
