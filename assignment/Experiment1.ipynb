{
 "cells": [
  {
   "cell_type": "markdown",
   "metadata": {},
   "source": [
    "1. print string in the given manner "
   ]
  },
  {
   "cell_type": "code",
   "execution_count": 2,
   "metadata": {},
   "outputs": [
    {
     "name": "stdout",
     "output_type": "stream",
     "text": [
      "Hello Everyone !!!\n",
      "Hello\n",
      "World\n",
      "Hello\n",
      "\t\tWorld\n",
      "' Rohit' s date of birth is 12\\05\\1999'\n"
     ]
    }
   ],
   "source": [
    "# a)\n",
    "print(\"Hello Everyone !!!\")\n",
    "\n",
    "# b)\n",
    "print(\"Hello\\nWorld\")\n",
    "\n",
    "# c)\n",
    "print(\"Hello\\n\\t\\tWorld\")\n",
    "\n",
    "# d)\n",
    "print(\"' Rohit' s date of birth is 12\\\\05\\\\1999'\")"
   ]
  },
  {
   "cell_type": "markdown",
   "metadata": {},
   "source": [
    "2. Declare a string variable called x and assign it the value “Hello”. Print out the value of x"
   ]
  },
  {
   "cell_type": "code",
   "execution_count": 2,
   "metadata": {},
   "outputs": [
    {
     "name": "stdout",
     "output_type": "stream",
     "text": [
      "Hello\n"
     ]
    }
   ],
   "source": [
    "x = \"Hello\"\n",
    "print(x)"
   ]
  },
  {
   "cell_type": "markdown",
   "metadata": {},
   "source": [
    "3. Take different data types and print values using print function"
   ]
  },
  {
   "cell_type": "code",
   "execution_count": 1,
   "metadata": {},
   "outputs": [
    {
     "name": "stdout",
     "output_type": "stream",
     "text": [
      "10\n",
      "10.5\n",
      "Hello\n",
      "True\n"
     ]
    }
   ],
   "source": [
    "integer_var = 10\n",
    "float_var = 10.5\n",
    "string_var = \"Hello\"\n",
    "boolean_var = True\n",
    "\n",
    "print(integer_var)\n",
    "print(float_var)\n",
    "print(string_var)\n",
    "print(boolean_var)"
   ]
  },
  {
   "cell_type": "markdown",
   "metadata": {},
   "source": [
    "4. Take two variable a and b. Assign your first name and last name. Print your Name after adding your First name and Last name together"
   ]
  },
  {
   "cell_type": "code",
   "execution_count": 3,
   "metadata": {},
   "outputs": [
    {
     "name": "stdout",
     "output_type": "stream",
     "text": [
      "John Doe\n"
     ]
    }
   ],
   "source": [
    "a = \"John\"\n",
    "b = \"Doe\"\n",
    "print(a + \" \" + b)"
   ]
  },
  {
   "cell_type": "markdown",
   "metadata": {},
   "source": [
    "5. Declare three variables, consisting of your first name, your last name and Nickname. Write a program that prints out your first name, then your nickname in parenthesis and then your last name."
   ]
  },
  {
   "cell_type": "code",
   "execution_count": 4,
   "metadata": {},
   "outputs": [
    {
     "name": "stdout",
     "output_type": "stream",
     "text": [
      "George (woody) Washington\n"
     ]
    }
   ],
   "source": [
    "first_name = \"George\"\n",
    "last_name = \"Washington\"\n",
    "nickname = \"woody\"\n",
    "print(f\"{first_name} ({nickname}) {last_name}\")"
   ]
  },
  {
   "cell_type": "markdown",
   "metadata": {},
   "source": [
    "6. Declare and assign values to suitable variables and print in the following way"
   ]
  },
  {
   "cell_type": "code",
   "execution_count": 5,
   "metadata": {},
   "outputs": [
    {
     "name": "stdout",
     "output_type": "stream",
     "text": [
      "NAME : NIKUNJ BANSAL\n",
      "SAP ID : 500069944\n",
      "DATE OF BIRTH : 13 Oct 1999\n",
      "ADDRESS : UPES\n",
      "Bidholi Campus\n",
      "Pincode : 248007\n",
      "Programme : AI & ML\n",
      "Semester : 2\n"
     ]
    }
   ],
   "source": [
    "name = \"NIKUNJ BANSAL\"\n",
    "sap_id = \"500069944\"\n",
    "dob = \"13 Oct 1999\"\n",
    "address = \"UPES\\nBidholi Campus\\nPincode : 248007\"\n",
    "programme = \"AI & ML\"\n",
    "semester = \"2\"\n",
    "\n",
    "print(f\"NAME : {name}\")\n",
    "print(f\"SAP ID : {sap_id}\")\n",
    "print(f\"DATE OF BIRTH : {dob}\")\n",
    "print(f\"ADDRESS : {address}\")\n",
    "print(f\"Programme : {programme}\")\n",
    "print(f\"Semester : {semester}\")"
   ]
  },
  {
   "cell_type": "code",
   "execution_count": null,
   "metadata": {},
   "outputs": [],
   "source": []
  }
 ],
 "metadata": {
  "kernelspec": {
   "display_name": "Python 3",
   "language": "python",
   "name": "python3"
  },
  "language_info": {
   "codemirror_mode": {
    "name": "ipython",
    "version": 3
   },
   "file_extension": ".py",
   "mimetype": "text/x-python",
   "name": "python",
   "nbconvert_exporter": "python",
   "pygments_lexer": "ipython3",
   "version": "3.13.1"
  }
 },
 "nbformat": 4,
 "nbformat_minor": 2
}
