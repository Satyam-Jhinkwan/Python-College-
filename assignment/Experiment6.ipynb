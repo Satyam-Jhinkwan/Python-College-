{
 "cells": [
  {
   "cell_type": "markdown",
   "metadata": {},
   "source": [
    "1. Scan n values in range 0-3 and print the number of times each value has occurred."
   ]
  },
  {
   "cell_type": "code",
   "execution_count": 3,
   "metadata": {},
   "outputs": [
    {
     "name": "stdout",
     "output_type": "stream",
     "text": [
      "Value 0 occurred 2 times\n",
      "Value 1 occurred 1 times\n",
      "Value 2 occurred 1 times\n",
      "Value 3 occurred 1 times\n"
     ]
    }
   ],
   "source": [
    "n = 5\n",
    "values = [0, 1, 2, 3, 0]\n",
    "count = [0] * 4\n",
    "for value in values:\n",
    "    if 0 <= value <= 3:\n",
    "        count[value] += 1\n",
    "for i in range(4):\n",
    "    print(f\"Value {i} occurred {count[i]} times\")"
   ]
  },
  {
   "cell_type": "markdown",
   "metadata": {},
   "source": [
    "2. Create a tuple to store n numeric values and find average of all values."
   ]
  },
  {
   "cell_type": "code",
   "execution_count": 4,
   "metadata": {},
   "outputs": [
    {
     "name": "stdout",
     "output_type": "stream",
     "text": [
      "Average: 3.0\n"
     ]
    }
   ],
   "source": [
    "values_tuple = (1, 2, 3, 4, 5)\n",
    "average = sum(values_tuple) / len(values_tuple)\n",
    "print(\"Average:\", average)"
   ]
  },
  {
   "cell_type": "markdown",
   "metadata": {},
   "source": [
    "3. Find the score of the runner-up and print the output."
   ]
  },
  {
   "cell_type": "code",
   "execution_count": 5,
   "metadata": {},
   "outputs": [
    {
     "name": "stdout",
     "output_type": "stream",
     "text": [
      "Runner-up score: 5\n"
     ]
    }
   ],
   "source": [
    "scores = [2, 3, 6, 6, 5]\n",
    "unique_scores = list(set(scores))\n",
    "unique_scores.sort(reverse=True)\n",
    "runner_up = unique_scores[1]\n",
    "print(\"Runner-up score:\", runner_up)"
   ]
  },
  {
   "cell_type": "markdown",
   "metadata": {},
   "source": [
    "4. Create a dictionary of n persons where key is name and value is city."
   ]
  },
  {
   "cell_type": "code",
   "execution_count": 6,
   "metadata": {},
   "outputs": [
    {
     "name": "stdout",
     "output_type": "stream",
     "text": [
      "Names: ['Alice', 'Bob', 'Charlie']\n",
      "Cities: ['New York', 'Los Angeles', 'New York']\n",
      "Alice lives in New York\n",
      "Bob lives in Los Angeles\n",
      "Charlie lives in New York\n",
      "City count: {'New York': 2, 'Los Angeles': 1}\n"
     ]
    }
   ],
   "source": [
    "persons = {'Alice': 'New York', 'Bob': 'Los Angeles', 'Charlie': 'New York'}\n",
    "# a) Display all names\n",
    "print(\"Names:\", list(persons.keys()))\n",
    "# b) Display all city names\n",
    "print(\"Cities:\", list(persons.values()))\n",
    "# c) Display student name and city of all students.\n",
    "for name, city in persons.items():\n",
    "    print(f\"{name} lives in {city}\")\n",
    "# d) Count number of students in each city.\n",
    "city_count = {}\n",
    "for city in persons.values():\n",
    "    if city in city_count:\n",
    "        city_count[city] += 1\n",
    "    else:\n",
    "        city_count[city] = 1\n",
    "print(\"City count:\", city_count)"
   ]
  },
  {
   "cell_type": "markdown",
   "metadata": {},
   "source": [
    "5. Store details of n movies in a dictionary by taking input from the user."
   ]
  },
  {
   "cell_type": "code",
   "execution_count": 1,
   "metadata": {},
   "outputs": [
    {
     "name": "stdout",
     "output_type": "stream",
     "text": [
      "Movie: Movie1, Details: {'year': 2010, 'director': 'Director1', 'cost': 100, 'collection': 150}\n",
      "Movie: Movie2, Details: {'year': 2016, 'director': 'Director2', 'cost': 200, 'collection': 180}\n",
      "Movie: Movie3, Details: {'year': 2014, 'director': 'Director1', 'cost': 120, 'collection': 130}\n",
      "Movies released before 2015:\n",
      "Movie1\n",
      "Movie3\n",
      "Movies that made a profit:\n",
      "Movie1\n",
      "Movie3\n",
      "Movies directed by :\n"
     ]
    }
   ],
   "source": [
    "movies = {\n",
    "    'Movie1': {'year': 2010, 'director': 'Director1', 'cost': 100, 'collection': 150},\n",
    "    'Movie2': {'year': 2016, 'director': 'Director2', 'cost': 200, 'collection': 180},\n",
    "    'Movie3': {'year': 2014, 'director': 'Director1', 'cost': 120, 'collection': 130},\n",
    "}\n",
    "# a) print all movie details\n",
    "for movie, details in movies.items():\n",
    "    print(f\"Movie: {movie}, Details: {details}\")\n",
    "# b) display name of movies released before 2015\n",
    "print(\"Movies released before 2015:\")\n",
    "for movie, details in movies.items():\n",
    "    if details['year'] < 2015:\n",
    "        print(movie)\n",
    "# c) print movies that made a profit\n",
    "print(\"Movies that made a profit:\")\n",
    "for movie, details in movies.items():\n",
    "    if details['collection'] > details['cost']:\n",
    "        print(movie)\n",
    "# d) print movies directed by a particular director\n",
    "director_name = input(\"Enter director name: \")\n",
    "print(f\"Movies directed by {director_name}:\")\n",
    "for movie, details in movies.items():\n",
    "    if details['director'] == director_name:\n",
    "        print(movie)"
   ]
  }
 ],
 "metadata": {
  "kernelspec": {
   "display_name": "Python 3",
   "language": "python",
   "name": "python3"
  },
  "language_info": {
   "codemirror_mode": {
    "name": "ipython",
    "version": 3
   },
   "file_extension": ".py",
   "mimetype": "text/x-python",
   "name": "python",
   "nbconvert_exporter": "python",
   "pygments_lexer": "ipython3",
   "version": "3.13.1"
  }
 },
 "nbformat": 4,
 "nbformat_minor": 2
}
