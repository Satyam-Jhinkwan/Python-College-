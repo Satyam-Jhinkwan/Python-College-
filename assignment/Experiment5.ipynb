{
 "cells": [
  {
   "cell_type": "markdown",
   "metadata": {},
   "source": [
    "1. Program to count and display the number of capital letters in a given string."
   ]
  },
  {
   "cell_type": "code",
   "execution_count": 9,
   "metadata": {},
   "outputs": [
    {
     "name": "stdout",
     "output_type": "stream",
     "text": [
      "Number of capital letters: 2\n"
     ]
    }
   ],
   "source": [
    "s = \"Hello World!\"\n",
    "count = 0\n",
    "for i in s:\n",
    "    if(i.isupper()):\n",
    "        count += 1\n",
    "print(f\"Number of capital letters: {count}\")"
   ]
  },
  {
   "cell_type": "markdown",
   "metadata": {},
   "source": [
    "2. Count total number of vowels in a given string."
   ]
  },
  {
   "cell_type": "code",
   "execution_count": 12,
   "metadata": {},
   "outputs": [
    {
     "name": "stdout",
     "output_type": "stream",
     "text": [
      "Number of vowels: 2\n"
     ]
    }
   ],
   "source": [
    "vowels = 'aeiouAEIOU'\n",
    "s=\"satyam\"\n",
    "count =0\n",
    "for i in s:\n",
    "    if(i in vowels):\n",
    "        count+=1\n",
    "print(f\"Number of vowels: {count}\")"
   ]
  },
  {
   "cell_type": "markdown",
   "metadata": {},
   "source": [
    "3. Input a sentence and print words in separate lines."
   ]
  },
  {
   "cell_type": "code",
   "execution_count": 14,
   "metadata": {},
   "outputs": [
    {
     "name": "stdout",
     "output_type": "stream",
     "text": [
      "Hello\n",
      "World!\n"
     ]
    }
   ],
   "source": [
    "s = \"Hello World!\"\n",
    "words = s.split()\n",
    "for word in words:\n",
    "    print(word)"
   ]
  },
  {
   "cell_type": "markdown",
   "metadata": {},
   "source": [
    "4. Program to enter a string and a substring and print the number of times the substring occurs in the given string."
   ]
  },
  {
   "cell_type": "code",
   "execution_count": 4,
   "metadata": {},
   "outputs": [
    {
     "name": "stdout",
     "output_type": "stream",
     "text": [
      "Number of times 'CDC' occurs: 1\n"
     ]
    }
   ],
   "source": [
    "s = \"ABCDCDC\"\n",
    "sub = \"CDC\"\n",
    "count = s.count(sub)\n",
    "print(f\"Number of times '{sub}' occurs: {count}\")"
   ]
  },
  {
   "cell_type": "markdown",
   "metadata": {},
   "source": [
    "5. Program to count the number of occurrences of each alphabet (case insensitive) and display the same."
   ]
  },
  {
   "cell_type": "code",
   "execution_count": null,
   "metadata": {},
   "outputs": [
    {
     "name": "stdout",
     "output_type": "stream",
     "text": [
      "2A\n",
      "3B\n",
      "2C\n",
      "1G\n"
     ]
    }
   ],
   "source": [
    "s = \"ABaBCbGc\".lower()\n",
    "alphabet_count = {}\n",
    "\n",
    "for c in s:\n",
    "    if c.isalpha():\n",
    "        if c in alphabet_count:\n",
    "            alphabet_count[c] += 1\n",
    "        else:\n",
    "            alphabet_count[c] = 1\n",
    "\n",
    "for k in sorted(alphabet_count):\n",
    "    print(f\"{alphabet_count[k]}{k.upper()}\")"
   ]
  },
  {
   "cell_type": "markdown",
   "metadata": {},
   "source": [
    "6. Program to count number of unique words in a given sentence using sets."
   ]
  },
  {
   "cell_type": "code",
   "execution_count": null,
   "metadata": {},
   "outputs": [
    {
     "name": "stdout",
     "output_type": "stream",
     "text": [
      "Number of unique words: 6\n"
     ]
    }
   ],
   "source": [
    "s = \"This is a test. This test is only a test.\"\n",
    "words = set(s.split())\n",
    "print(f\"Number of unique words: {len(words)}\")"
   ]
  },
  {
   "cell_type": "markdown",
   "metadata": {},
   "source": [
    "7. Create 2 sets s1 and s2 of n fruits each by taking input from user and find:"
   ]
  },
  {
   "cell_type": "code",
   "execution_count": 3,
   "metadata": {},
   "outputs": [
    {
     "name": "stdout",
     "output_type": "stream",
     "text": [
      "Fruits in both sets: set()\n",
      "Fruits only in set 1 but not in set 2: {'apple', 'mango'}\n",
      "Count of all fruits from both sets: 4\n"
     ]
    }
   ],
   "source": [
    "n = int(input(\"Enter number of fruits in each set: \"))\n",
    "s1 = set(input(f\"Enter fruit {i+1} for set 1: \") for i in range(n))\n",
    "s2 = set(input(f\"Enter fruit {i+1} for set 2: \") for i in range(n))\n",
    "\n",
    "print(\"Fruits in both sets:\", s1 & s2)\n",
    "print(\"Fruits only in set 1 but not in set 2:\", s1 - s2)\n",
    "print(\"Count of all fruits from both sets:\", len(s1 | s2))"
   ]
  },
  {
   "cell_type": "markdown",
   "metadata": {},
   "source": [
    "8. Take two sets and apply various set operations on them."
   ]
  },
  {
   "cell_type": "code",
   "execution_count": 8,
   "metadata": {},
   "outputs": [
    {
     "name": "stdout",
     "output_type": "stream",
     "text": [
      "Union: {'blue', 'yellow', 'orange', 'Red', 'violet', 'purple'}\n",
      "Intersection: {'blue'}\n",
      "Difference (S1 - S2): {'orange', 'Red', 'yellow'}\n",
      "Difference (S2 - S1): {'violet', 'purple'}\n"
     ]
    }
   ],
   "source": [
    "S1 = {\"Red\", \"yellow\", \"orange\", \"blue\"}\n",
    "S2 = {\"violet\", \"blue\", \"purple\"}\n",
    "\n",
    "print(\"Union:\", S1 | S2)\n",
    "print(\"Intersection:\", S1 & S2)\n",
    "print(\"Difference (S1 - S2):\", S1 - S2)\n",
    "print(\"Difference (S2 - S1):\", S2 - S1)"
   ]
  }
 ],
 "metadata": {
  "kernelspec": {
   "display_name": "Python 3",
   "language": "python",
   "name": "python3"
  },
  "language_info": {
   "codemirror_mode": {
    "name": "ipython",
    "version": 3
   },
   "file_extension": ".py",
   "mimetype": "text/x-python",
   "name": "python",
   "nbconvert_exporter": "python",
   "pygments_lexer": "ipython3",
   "version": "3.13.1"
  }
 },
 "nbformat": 4,
 "nbformat_minor": 2
}
