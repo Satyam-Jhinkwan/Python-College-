{
 "cells": [
  {
   "cell_type": "markdown",
   "metadata": {},
   "source": [
    "### cars"
   ]
  },
  {
   "cell_type": "code",
   "execution_count": 2,
   "metadata": {},
   "outputs": [
    {
     "name": "stdout",
     "output_type": "stream",
     "text": [
      "Brand Name:  BMW\n",
      "Model Name:  Competition\n",
      "Model Year:  2022\n"
     ]
    }
   ],
   "source": [
    "class cars: \n",
    "    def details(self):\n",
    "        self.brand = input(\"enter the brand of the car: \")\n",
    "        self.model = input(\"enter the model of the car: \")\n",
    "        self.year = int(input(\"enter the model year: \"))\n",
    "    \n",
    "    def display(self):\n",
    "        print(\"Brand Name: \",self.brand)\n",
    "        print(\"Model Name: \",self.model)\n",
    "        print(\"Model Year: \",self.year)\n",
    "\n",
    "c1 = cars()\n",
    "c1.details()\n",
    "c1.display()"
   ]
  },
  {
   "cell_type": "code",
   "execution_count": 7,
   "metadata": {},
   "outputs": [
    {
     "name": "stdout",
     "output_type": "stream",
     "text": [
      "Acc created successfully\n",
      "rs.6000 deposited successfully\n",
      "withdrawed rs. 4000\n",
      "Name: satyam\n",
      "Phone No.: 7579112534\n",
      "Balance: 2000\n"
     ]
    }
   ],
   "source": [
    "class Bank:\n",
    "    def createAcc(self):\n",
    "        self.name = input(\"enter your name: \")\n",
    "        self.phone = input(\"enter your phone no.: \")\n",
    "        self.balance = 0\n",
    "        print(\"Acc created successfully\")\n",
    "\n",
    "    def deposit(self):\n",
    "        amount = int(input(\"enter the amount you want to deposit: \"))\n",
    "        self.balance += amount\n",
    "        if(self.balance):\n",
    "            print(f\"rs.{amount} deposited successfully\")\n",
    "\n",
    "    def withdraw(self):\n",
    "        amt = int(input(\"enter the amount you want to withdraw: \"))\n",
    "        if(amt>self.balance):\n",
    "            print(\"you dont have enough money\")\n",
    "        else:\n",
    "            self.balance -= amt\n",
    "            print(\"withdrawed rs.\",amt)\n",
    "\n",
    "    def display(self):\n",
    "        print(\"Name:\",self.name)\n",
    "        print(\"Phone No.:\",self.phone)\n",
    "        print(\"Balance:\",self.balance)\n",
    "\n",
    "p1 = Bank()\n",
    "p1.createAcc()\n",
    "p1.deposit()\n",
    "p1.withdraw()\n",
    "p1.display()"
   ]
  }
 ],
 "metadata": {
  "kernelspec": {
   "display_name": "Python 3",
   "language": "python",
   "name": "python3"
  },
  "language_info": {
   "codemirror_mode": {
    "name": "ipython",
    "version": 3
   },
   "file_extension": ".py",
   "mimetype": "text/x-python",
   "name": "python",
   "nbconvert_exporter": "python",
   "pygments_lexer": "ipython3",
   "version": "3.13.1"
  }
 },
 "nbformat": 4,
 "nbformat_minor": 2
}
