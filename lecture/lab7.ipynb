{
 "cells": [
  {
   "cell_type": "code",
   "execution_count": 7,
   "metadata": {},
   "outputs": [
    {
     "name": "stdout",
     "output_type": "stream",
     "text": [
      "Student_ID,Name,Class,Score,Attendance (%)\n",
      "\n",
      "101,Alice,A,95,74\n",
      "\n",
      "102,Bob,A,93,94\n",
      "\n",
      "103,Charlie,C,83,79\n",
      "\n",
      "104,David,C,92,88\n",
      "\n",
      "105,Eve,C,50,80\n",
      "\n",
      "106,Frank,B,53,61\n",
      "\n",
      "107,Grace,C,54,71\n",
      "\n",
      "108,Hannah,C,66,61\n",
      "\n",
      "109,Isaac,A,87,96\n",
      "\n",
      "110,Jack,C,62,90\n",
      "\n",
      "111,Katherine,A,56,98\n",
      "\n",
      "112,Liam,C,70,82\n",
      "\n",
      "113,Mia,C,73,95\n",
      "\n",
      "114,Nathan,B,86,98\n",
      "\n",
      "115,Olivia,B,73,91\n",
      "\n",
      "116,Peter,B,71,73\n",
      "\n",
      "117,Quinn,C,72,83\n",
      "\n",
      "118,Ryan,C,91,80\n",
      "\n",
      "119,Sophia,A,52,69\n",
      "\n",
      "120,Tom,A,69,84\n",
      "\n"
     ]
    }
   ],
   "source": [
    "f = open(\"student_scores.csv\",\"r\")\n",
    "data = f.readlines();\n",
    "for i in data:\n",
    "    print(i)\n"
   ]
  },
  {
   "cell_type": "code",
   "execution_count": null,
   "metadata": {},
   "outputs": [
    {
     "name": "stdout",
     "output_type": "stream",
     "text": [
      "Students who scored above 80:\n",
      "    Student_ID     Name Class  Score  Attendance (%)\n",
      "0          101    Alice     A     95              74\n",
      "1          102      Bob     A     93              94\n",
      "2          103  Charlie     C     83              79\n",
      "3          104    David     C     92              88\n",
      "8          109    Isaac     A     87              96\n",
      "13         114   Nathan     B     86              98\n",
      "17         118     Ryan     C     91              80\n",
      "\n",
      "Students who have attendance above 85%\n",
      "    Student_ID       Name Class  Score  Attendance (%)\n",
      "1          102        Bob     A     93              94\n",
      "3          104      David     C     92              88\n",
      "8          109      Isaac     A     87              96\n",
      "9          110       Jack     C     62              90\n",
      "10         111  Katherine     A     56              98\n",
      "12         113        Mia     C     73              95\n",
      "13         114     Nathan     B     86              98\n",
      "14         115     Olivia     B     73              91\n"
     ]
    }
   ],
   "source": [
    "import pandas as pd\n",
    "\n",
    "data = pd.read_csv(\"student_scores.csv\")\n",
    "scores = data[data[\"Score\"] > 80]\n",
    "print(\"Students who scored above 80:\")\n",
    "print(scores)\n",
    "attendance = data[data[\"Attendance (%)\"] > 85]\n",
    "print(\"\\nStudents who have attendance above 85%\")\n",
    "print(attendance)"
   ]
  },
  {
   "cell_type": "code",
   "execution_count": null,
   "metadata": {},
   "outputs": [],
   "source": []
  }
 ],
 "metadata": {
  "kernelspec": {
   "display_name": "Python 3",
   "language": "python",
   "name": "python3"
  },
  "language_info": {
   "codemirror_mode": {
    "name": "ipython",
    "version": 3
   },
   "file_extension": ".py",
   "mimetype": "text/x-python",
   "name": "python",
   "nbconvert_exporter": "python",
   "pygments_lexer": "ipython3",
   "version": "3.13.1"
  }
 },
 "nbformat": 4,
 "nbformat_minor": 2
}
