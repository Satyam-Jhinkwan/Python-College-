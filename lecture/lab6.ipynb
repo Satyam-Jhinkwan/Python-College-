{
 "cells": [
  {
   "cell_type": "code",
   "execution_count": 1,
   "metadata": {},
   "outputs": [
    {
     "name": "stdout",
     "output_type": "stream",
     "text": [
      "[1, 2, 3, 5, 6, 25, 65]\n"
     ]
    }
   ],
   "source": [
    "l=[1,3,5,2]\n",
    "l2 = [6,25,65]\n",
    "l.extend(l2)\n",
    "l.sort()\n",
    "print(l)"
   ]
  },
  {
   "cell_type": "code",
   "execution_count": null,
   "metadata": {},
   "outputs": [
    {
     "name": "stdout",
     "output_type": "stream",
     "text": [
      "5\n"
     ]
    }
   ],
   "source": [
    "print(5)\n"
   ]
  },
  {
   "cell_type": "code",
   "execution_count": 20,
   "metadata": {},
   "outputs": [
    {
     "name": "stdout",
     "output_type": "stream",
     "text": [
      "Customer on both app and website :\n",
      "satyam yajas "
     ]
    }
   ],
   "source": [
    "customerWeb = ['satyam','yajas']\n",
    "customerApp = ['satyam','yajas','sahil']\n",
    "print(\"Customer on both app and website :\")\n",
    "for i, j in zip(customerWeb, customerApp):\n",
    "    if i == j:\n",
    "        print(i,end=' ')"
   ]
  },
  {
   "cell_type": "code",
   "execution_count": null,
   "metadata": {},
   "outputs": [
    {
     "name": "stdout",
     "output_type": "stream",
     "text": [
      "{'headphone', 'laptop'}\n"
     ]
    }
   ],
   "source": [
    "warehouse_stock = ['laptop',\"phone\",\"tablet\",\"monitor\"]\n",
    "website_stock = [\"phone\",\"tablet\",\"monitor\",'headphone']\n",
    "\n",
    "wS= set(warehouse_stock)\n",
    "webS=set(website_stock)\n",
    "print(wS.symmetric_difference(webS))"
   ]
  }
 ],
 "metadata": {
  "kernelspec": {
   "display_name": "Python 3",
   "language": "python",
   "name": "python3"
  },
  "language_info": {
   "codemirror_mode": {
    "name": "ipython",
    "version": 3
   },
   "file_extension": ".py",
   "mimetype": "text/x-python",
   "name": "python",
   "nbconvert_exporter": "python",
   "pygments_lexer": "ipython3",
   "version": "3.13.1"
  }
 },
 "nbformat": 4,
 "nbformat_minor": 2
}
