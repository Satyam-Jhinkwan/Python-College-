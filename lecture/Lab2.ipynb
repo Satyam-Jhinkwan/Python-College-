{
 "cells": [
  {
   "cell_type": "code",
   "execution_count": 1,
   "metadata": {},
   "outputs": [
    {
     "name": "stdout",
     "output_type": "stream",
     "text": [
      "inf\n"
     ]
    }
   ],
   "source": [
    "print(1e309)   #inf stands for infinite"
   ]
  },
  {
   "cell_type": "code",
   "execution_count": 2,
   "metadata": {},
   "outputs": [
    {
     "data": {
      "text/plain": [
       "1e+308"
      ]
     },
     "execution_count": 2,
     "metadata": {},
     "output_type": "execute_result"
    }
   ],
   "source": [
    "1e308"
   ]
  },
  {
   "cell_type": "code",
   "execution_count": 3,
   "metadata": {},
   "outputs": [
    {
     "name": "stdout",
     "output_type": "stream",
     "text": [
      "satyam\n"
     ]
    }
   ],
   "source": [
    "print(\"\"\"satyam\"\"\")"
   ]
  },
  {
   "cell_type": "markdown",
   "metadata": {},
   "source": [
    "# typecasting"
   ]
  },
  {
   "cell_type": "code",
   "execution_count": 8,
   "metadata": {},
   "outputs": [
    {
     "name": "stdout",
     "output_type": "stream",
     "text": [
      "sum of two numbers is :  3423\n"
     ]
    }
   ],
   "source": [
    "a=input(\"enter first number : \")\n",
    "b=input(\"enter second number : \")  \n",
    "print(\"sum of two numbers is : \",a+b)           #input function always takes input as string"
   ]
  },
  {
   "cell_type": "code",
   "execution_count": 9,
   "metadata": {},
   "outputs": [
    {
     "name": "stdout",
     "output_type": "stream",
     "text": [
      "sum of two numbers is :  477\n"
     ]
    }
   ],
   "source": [
    "a = int(input(\"enter first number : \"))\n",
    "b = int(input(\"enter second number : \"))    \n",
    "print(\"sum of two numbers is : \",a+b)           #type casting   "
   ]
  },
  {
   "cell_type": "markdown",
   "metadata": {},
   "source": [
    "literals"
   ]
  },
  {
   "cell_type": "code",
   "execution_count": 11,
   "metadata": {},
   "outputs": [
    {
     "name": "stdout",
     "output_type": "stream",
     "text": [
      "10\n"
     ]
    }
   ],
   "source": [
    "a = 0b1010      #b stands for binary\n",
    "print(a)"
   ]
  },
  {
   "cell_type": "code",
   "execution_count": 10,
   "metadata": {},
   "outputs": [
    {
     "name": "stdout",
     "output_type": "stream",
     "text": [
      "11\n"
     ]
    }
   ],
   "source": [
    "b = 0o13        #o stands for octal\n",
    "print(b)"
   ]
  },
  {
   "cell_type": "code",
   "execution_count": 13,
   "metadata": {},
   "outputs": [
    {
     "name": "stdout",
     "output_type": "stream",
     "text": [
      "300\n"
     ]
    }
   ],
   "source": [
    "c = 0x12c       #x stands for hexadecimal\n",
    "print(c)   "
   ]
  },
  {
   "cell_type": "markdown",
   "metadata": {},
   "source": [
    "built-in and external modules"
   ]
  },
  {
   "cell_type": "code",
   "execution_count": 15,
   "metadata": {},
   "outputs": [
    {
     "name": "stdout",
     "output_type": "stream",
     "text": [
      "false\n"
     ]
    }
   ],
   "source": [
    "if(0.1 + 0.2 == 0.3):\n",
    "    print(\"true\")\n",
    "else:\n",
    "    print(\"false\")          #floating point arithmetic     "
   ]
  },
  {
   "cell_type": "code",
   "execution_count": 16,
   "metadata": {},
   "outputs": [
    {
     "name": "stdout",
     "output_type": "stream",
     "text": [
      "0.30000000000000004\n"
     ]
    }
   ],
   "source": [
    "print(0.1 + 0.2)            #system changes the value to binary and then adds them"
   ]
  },
  {
   "cell_type": "code",
   "execution_count": 19,
   "metadata": {},
   "outputs": [
    {
     "name": "stdout",
     "output_type": "stream",
     "text": [
      "name :  satyam \n",
      "subject :   python\n"
     ]
    }
   ],
   "source": [
    "name= \" python\"\n",
    "subject = \"satyam\"\n",
    "name, subject = subject, name\n",
    "print(\"name :\",name,\"\\nsubject :\",subject)         #swapping of two variables"
   ]
  },
  {
   "cell_type": "markdown",
   "metadata": {},
   "source": [
    "finding the second largest number in a list using heapq\n",
    "heapq is a module that always gives the sorted list of numbers usually with smallest in the first place"
   ]
  },
  {
   "cell_type": "code",
   "execution_count": 9,
   "metadata": {},
   "outputs": [
    {
     "name": "stdout",
     "output_type": "stream",
     "text": [
      "[1, 2, 3, 4, 5, 13, 42, 12, 52, 10]\n",
      "[52, 42]\n",
      "42\n"
     ]
    }
   ],
   "source": [
    "import heapq\n",
    "nums = [1,2,3,4,5,13,42,12,52,10]\n",
    "heapq.heapify(nums)     #heapify function is used to convert a list into a heap\n",
    "print(nums)             #heap is a binary tree where parent node is always smaller than child node\n",
    "print(heapq.nlargest(2,nums))   #nlargest function is used to get n largest elements from the heap\n",
    "print(heapq.nlargest(2,nums)[1])  #indexing of nlargest function"
   ]
  },
  {
   "cell_type": "code",
   "execution_count": 10,
   "metadata": {},
   "outputs": [
    {
     "name": "stdout",
     "output_type": "stream",
     "text": [
      "54\n",
      "28\n"
     ]
    }
   ],
   "source": [
    "import sys\n",
    "x = \"hello\"\n",
    "print(sys.getsizeof(x))     #getsizeof function is used to get the size of the variable in bytes\n",
    "y = 54\n",
    "print(sys.getsizeof(y))    #size of integer is 28 bytes"
   ]
  },
  {
   "cell_type": "markdown",
   "metadata": {},
   "source": [
    "# conversion "
   ]
  },
  {
   "cell_type": "code",
   "execution_count": 10,
   "metadata": {},
   "outputs": [
    {
     "name": "stdout",
     "output_type": "stream",
     "text": [
      "0b10111\n",
      "0b10011\n"
     ]
    }
   ],
   "source": [
    "a= bin(23)    #bin function is used to convert decimal to binary\n",
    "b = bin(0o23)  #bin function is used to convert octal to binary\n",
    "\n",
    "print(a)\n",
    "print(b)"
   ]
  },
  {
   "cell_type": "code",
   "execution_count": 12,
   "metadata": {},
   "outputs": [
    {
     "name": "stdout",
     "output_type": "stream",
     "text": [
      "<class 'int'>\n",
      "2078123885072\n"
     ]
    }
   ],
   "source": [
    "a = 10\n",
    "print(type(a))   #type function is used to get the type of the variable\n",
    "print(id(a))     #id function is used to get the address of the variable"
   ]
  },
  {
   "cell_type": "markdown",
   "metadata": {},
   "source": [
    "# sets"
   ]
  },
  {
   "cell_type": "code",
   "execution_count": 4,
   "metadata": {},
   "outputs": [
    {
     "name": "stdout",
     "output_type": "stream",
     "text": [
      "{1, 2, 3, 4, 5, 6, 7, 8}\n",
      "{4, 5}\n",
      "{1, 2, 3}\n"
     ]
    }
   ],
   "source": [
    "a = {1,2,3,4,5}\n",
    "b = {4,5,6,7,8}\n",
    "print(a.union(b))    #union function is used to get the union of two sets\n",
    "print(a.intersection(b))   #intersection function is used to get the intersection of two sets\n",
    "print(a.difference(b))     #difference function is used to get the difference of two sets"
   ]
  }
 ],
 "metadata": {
  "kernelspec": {
   "display_name": "Python 3",
   "language": "python",
   "name": "python3"
  },
  "language_info": {
   "codemirror_mode": {
    "name": "ipython",
    "version": 3
   },
   "file_extension": ".py",
   "mimetype": "text/x-python",
   "name": "python",
   "nbconvert_exporter": "python",
   "pygments_lexer": "ipython3",
   "version": "3.13.1"
  }
 },
 "nbformat": 4,
 "nbformat_minor": 2
}
