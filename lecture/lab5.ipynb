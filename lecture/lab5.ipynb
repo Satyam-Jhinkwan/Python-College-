{
 "cells": [
  {
   "cell_type": "markdown",
   "metadata": {},
   "source": [
    "you are given a list of dict where each dict contain the details about the product in e commerce store \n",
    "1. find the most expensive product in the list\n",
    "2. find the product with the highest avg rating\n",
    "3. list all the product having rating of greater than 4\n",
    "\n",
    "eg : 1. name product \n",
    "    2. category : electronicfs , clothing \n",
    "    3. price ;"
   ]
  },
  {
   "cell_type": "code",
   "execution_count": null,
   "metadata": {},
   "outputs": [
    {
     "name": "stdout",
     "output_type": "stream",
     "text": [
      "product having more than 4 rating ['electronic', 5000, 4.6]\n",
      "most expensive price : 10000\n",
      "highest rating : 4.6\n"
     ]
    }
   ],
   "source": [
    "a = [\n",
    "        { \"fan\" : [\"electronics\",10000,4],\n",
    "        \"table\" : [\"furniture\",5000,3.2],\n",
    "        \"jacket\" : [\"clothing\",2500,3.5],\n",
    "        \"ssd\" : [\"electronic\",5000,4.6]\n",
    "        }\n",
    "    ]\n",
    "for i in a:\n",
    "    val = list(i.values())\n",
    "    mostExpensive = val[0][1]\n",
    "    highestRating = val[0][2]\n",
    "    # for i in range(0,4):\n",
    "    #     print(val[i])\n",
    "    #     if(j[1]>mostExpensive):\n",
    "    #          mostExpensive = j[1]\n",
    "    #     if(j[2]>highestRating):\n",
    "    #         highestRating = j[2]\n",
    "    #     if(j[2]>4):\n",
    "    #         print(f\"product having more than 4 rating {j}\")\n",
    "    for j in val:\n",
    "        if(j[1]>mostExpensive):\n",
    "            mostExpensive = j[1]\n",
    "        if(j[2]>highestRating):\n",
    "            highestRating = j[2]\n",
    "        if(j[2]>4):\n",
    "            print(f\"product having more than 4 rating {j}\")\n",
    "print(f\"most expensive price : {mostExpensive}\")\n",
    "print(f\"highest rating : {highestRating}\")\n",
    "\n",
    "\n"
   ]
  },
  {
   "cell_type": "markdown",
   "metadata": {},
   "source": [
    ".from keys is used to quickly initialize a dict but providing default values to update"
   ]
  },
  {
   "cell_type": "code",
   "execution_count": 46,
   "metadata": {},
   "outputs": [
    {
     "name": "stdout",
     "output_type": "stream",
     "text": [
      "[1, 3, 4]\n",
      "{'b': 3, 'c': 4}\n"
     ]
    }
   ],
   "source": [
    "d_1 = {'a':1 , \"b\":2}\n",
    "d_2 = {\"b\":3, \"c\":4}\n",
    "d_1.update(d_2)\n",
    "result = list(d_1.values())\n",
    "print(result)\n",
    "print(d_2)"
   ]
  },
  {
   "cell_type": "code",
   "execution_count": 58,
   "metadata": {},
   "outputs": [
    {
     "name": "stdout",
     "output_type": "stream",
     "text": [
      "{'a': 2}\n"
     ]
    }
   ],
   "source": [
    "dict = {'b': 1 , 'a' : 2, 'c':3}\n",
    "dict.pop('b')\n",
    "dict.popitem()\n",
    "print(dict)"
   ]
  },
  {
   "cell_type": "code",
   "execution_count": null,
   "metadata": {},
   "outputs": [],
   "source": []
  }
 ],
 "metadata": {
  "kernelspec": {
   "display_name": "Python 3",
   "language": "python",
   "name": "python3"
  },
  "language_info": {
   "codemirror_mode": {
    "name": "ipython",
    "version": 3
   },
   "file_extension": ".py",
   "mimetype": "text/x-python",
   "name": "python",
   "nbconvert_exporter": "python",
   "pygments_lexer": "ipython3",
   "version": "3.13.1"
  }
 },
 "nbformat": 4,
 "nbformat_minor": 2
}
